{
  "cells": [
    {
      "cell_type": "markdown",
      "metadata": {
        "id": "view-in-github",
        "colab_type": "text"
      },
      "source": [
        "<a href=\"https://colab.research.google.com/github/MayerT1/Forest_Structure_Function_Module/blob/main/Step_3_Forest_Structure_Function_Module_Python.ipynb\" target=\"_parent\"><img src=\"https://colab.research.google.com/assets/colab-badge.svg\" alt=\"Open In Colab\"/></a>"
      ]
    },
    {
      "cell_type": "markdown",
      "metadata": {
        "id": "oyY8MaQzTPLM"
      },
      "source": [
        "# Export CSVs with this GEE Script"
      ]
    },
    {
      "cell_type": "markdown",
      "source": [],
      "metadata": {
        "id": "zEXfhnLWyT8W"
      }
    },
    {
      "cell_type": "markdown",
      "metadata": {
        "id": "-QP8AmZCTT0i"
      },
      "source": [
        "https://code.earthengine.google.com/ca98e825537939f29d0a7703cdf51134"
      ]
    },
    {
      "cell_type": "markdown",
      "metadata": {
        "id": "wDXLDFaihsND"
      },
      "source": [
        "guide: https://www.kaggle.com/code/sociopath00/random-forest-using-gridsearchcv"
      ]
    },
    {
      "cell_type": "markdown",
      "source": [
        "# set-up"
      ],
      "metadata": {
        "id": "-3AqzdAsyS0w"
      }
    },
    {
      "cell_type": "code",
      "execution_count": null,
      "metadata": {
        "id": "_ghc9WKkRwsR"
      },
      "outputs": [],
      "source": [
        "from google.colab import drive\n",
        "drive.mount('/content/drive')"
      ]
    },
    {
      "cell_type": "code",
      "execution_count": null,
      "metadata": {
        "id": "uqnB0ZbESqGW"
      },
      "outputs": [],
      "source": [
        "%cd /content/drive/MyDrive/sample_partition"
      ]
    },
    {
      "cell_type": "code",
      "execution_count": null,
      "metadata": {
        "id": "8BBlRLA9Ssjd"
      },
      "outputs": [],
      "source": [
        "!ls"
      ]
    },
    {
      "cell_type": "code",
      "execution_count": null,
      "metadata": {
        "id": "uusunArzXraT"
      },
      "outputs": [],
      "source": [
        "!pip3 install mxnet-mkl==1.6.0 numpy==1.23.1"
      ]
    },
    {
      "cell_type": "code",
      "execution_count": null,
      "metadata": {
        "id": "Zn4NahV6R1EH"
      },
      "outputs": [],
      "source": [
        "import numpy as np # linear algebra\n",
        "import pandas as pd # data processing, CSV file I/O (e.g. pd.read_csv)\n",
        "import re\n",
        "import matplotlib.pyplot as plt\n",
        "import seaborn as sns\n",
        "from scipy.stats import chi2_contingency\n",
        "\n",
        "from sklearn.model_selection import train_test_split\n",
        "from sklearn.model_selection import cross_val_score\n",
        "from sklearn.model_selection import GridSearchCV\n",
        "from sklearn.ensemble import RandomForestClassifier\n",
        "from sklearn.metrics import accuracy_score\n",
        "from sklearn.svm import SVC\n",
        "\n",
        "from subprocess import check_output\n",
        "# print(check_output([\"ls\", \"../input\"]).decode(\"utf8\"))\n",
        "\n",
        "%matplotlib inline"
      ]
    },
    {
      "cell_type": "code",
      "execution_count": null,
      "metadata": {
        "id": "cpDFRIsVS2g_"
      },
      "outputs": [],
      "source": [
        "train=pd.read_csv(\"training.csv\")\n",
        "# print(\"Train dataset has {} samples and {} attributes\".format(*train.shape))\n",
        "\n",
        "sns.histplot(data=train, x=\"rh100\")\n",
        "\n",
        "train.describe()"
      ]
    },
    {
      "cell_type": "code",
      "source": [
        "\n",
        "# Example: If you have a DataFrame 'df' with 'rh100' as the target column.\n",
        "def plot_scatter_with_rh100(train, target_column='rh100'):\n",
        "    # Check if 'rh100' exists in the DataFrame\n",
        "    if target_column not in train.columns:\n",
        "        raise ValueError(f\"'{target_column}' is not a column in the DataFrame.\")\n",
        "\n",
        "    # Set up the number of subplots based on the number of columns (excluding 'rh100')\n",
        "    features = train.drop(columns=[target_column]).columns\n",
        "    num_cols = len(features)\n",
        "    num_rows = (num_cols // 3) + 1  # Customize for more/less features per row\n",
        "\n",
        "    fig, axes = plt.subplots(num_rows, 3, figsize=(15, 5 * num_rows))  # Adjust figure size\n",
        "    axes = axes.flatten()  # Flatten the axes array for easy indexing\n",
        "\n",
        "    for i, column in enumerate(features):\n",
        "        sns.scatterplot(x=train[column], y=train[target_column], ax=axes[i])\n",
        "        axes[i].set_title(f\"{column} vs {target_column}\")\n",
        "        axes[i].set_xlabel(column)\n",
        "        axes[i].set_ylabel(target_column)\n",
        "\n",
        "    # Remove any unused subplots\n",
        "    for j in range(i + 1, len(axes)):\n",
        "        fig.delaxes(axes[j])\n",
        "\n",
        "    plt.tight_layout()\n",
        "    plt.show()\n",
        "\n",
        "# Example: df = pd.read_csv('your_dataset.csv')\n",
        "plot_scatter_with_rh100(train)"
      ],
      "metadata": {
        "id": "c5iWD9Ty7kJf"
      },
      "execution_count": null,
      "outputs": []
    },
    {
      "cell_type": "code",
      "execution_count": null,
      "metadata": {
        "id": "AOTvIZ5zXLly"
      },
      "outputs": [],
      "source": [
        "test=pd.read_csv(\"testing.csv\")\n",
        "print(\"Test dataset has {} samples and {} attributes\".format(*test.shape))"
      ]
    },
    {
      "cell_type": "code",
      "source": [
        "validation=pd.read_csv(\"validation.csv\")\n",
        "print(\"validation dataset has {} samples and {} attributes\".format(*validation.shape))"
      ],
      "metadata": {
        "id": "jlRwShY-yJ3t"
      },
      "execution_count": null,
      "outputs": []
    },
    {
      "cell_type": "markdown",
      "source": [
        "# Start"
      ],
      "metadata": {
        "id": "Og3BlNPvyRWs"
      }
    },
    {
      "cell_type": "code",
      "execution_count": null,
      "metadata": {
        "id": "Ljnlp8mPRClT"
      },
      "outputs": [],
      "source": [
        "head_testlist = list(test.columns.values)\n",
        "head_testlist"
      ]
    },
    {
      "cell_type": "code",
      "execution_count": null,
      "metadata": {
        "id": "T5Dyk4P6n92a"
      },
      "outputs": [],
      "source": [
        "# test.drop([0, 39],axis=1)\n",
        "test.drop(['system:index', 'class', '.geo'], axis=1, inplace=True)\n",
        "test"
      ]
    },
    {
      "cell_type": "code",
      "execution_count": null,
      "metadata": {
        "id": "TYcsX6DcCs_M"
      },
      "outputs": [],
      "source": [
        "test.head()"
      ]
    },
    {
      "cell_type": "code",
      "execution_count": null,
      "metadata": {
        "id": "2JmkqH9wTJa6"
      },
      "outputs": [],
      "source": [
        "train.head()"
      ]
    },
    {
      "cell_type": "code",
      "execution_count": null,
      "metadata": {
        "id": "kwlbmkJaTtVe"
      },
      "outputs": [],
      "source": [
        "head_list = list(train.columns.values)\n",
        "head_list"
      ]
    },
    {
      "cell_type": "code",
      "execution_count": null,
      "metadata": {
        "id": "qb0rmcfVTXS0"
      },
      "outputs": [],
      "source": [
        "fig , ax = plt.subplots(figsize=(6,4))\n",
        "sns.countplot(x='class', data=train)\n",
        "plt.title(\"class plot\")\n",
        "plt.show()"
      ]
    },
    {
      "cell_type": "code",
      "execution_count": null,
      "metadata": {
        "id": "tdIvVjFkUaJr"
      },
      "outputs": [],
      "source": [
        "\n",
        "del head_list[0]\n",
        "del head_list[22]\n",
        "del head_list[36]\n",
        "\n",
        "head_list"
      ]
    },
    {
      "cell_type": "code",
      "execution_count": null,
      "metadata": {
        "id": "emw7yYCfULPl"
      },
      "outputs": [],
      "source": [
        "corr_df=train[head_list]  #New dataframe to calculate correlation between numeric features\n",
        "cor= corr_df.corr(method='pearson')\n",
        "print(cor)"
      ]
    },
    {
      "cell_type": "code",
      "execution_count": null,
      "metadata": {
        "id": "ZGttYiyxXZok"
      },
      "outputs": [],
      "source": [
        "fig, ax =plt.subplots(figsize=(10, 10))\n",
        "plt.title(\"Correlation Plot\")\n",
        "sns.heatmap(cor, mask=np.zeros_like(cor), cmap=sns.diverging_palette(220, 10, as_cmap=True),\n",
        "            square=True, ax=ax)\n",
        "plt.show()"
      ]
    },
    {
      "cell_type": "code",
      "execution_count": null,
      "metadata": {
        "id": "Snzy5fRcYo5f"
      },
      "outputs": [],
      "source": [
        "# csq=chi2_contingency(pd.crosstab(train['class'], train['replace_w_categorical_variables']))\n",
        "# print(\"P-value: \",csq[1])"
      ]
    },
    {
      "cell_type": "code",
      "execution_count": null,
      "metadata": {
        "id": "XYfrbsxHZMGM"
      },
      "outputs": [],
      "source": [
        "fig, ax=plt.subplots(1,figsize=(8,6))\n",
        "sns.boxplot(x='class',y='rh100_1', data=train)\n",
        "ax.set_ylim(0,40)\n",
        "plt.title(\"class vs rh100_1\")\n",
        "plt.show()"
      ]
    },
    {
      "cell_type": "code",
      "execution_count": null,
      "metadata": {
        "id": "Deqvk9hlZ2ph"
      },
      "outputs": [],
      "source": [
        "train['rh100_1'].describe()"
      ]
    },
    {
      "cell_type": "markdown",
      "metadata": {
        "id": "Imb3jxQqal3M"
      },
      "source": [
        "# Model"
      ]
    },
    {
      "cell_type": "code",
      "execution_count": null,
      "metadata": {
        "id": "TUKhKbeuYiuX"
      },
      "outputs": [],
      "source": [
        "y=train['rh100']\n",
        "y"
      ]
    },
    {
      "cell_type": "code",
      "execution_count": null,
      "metadata": {
        "id": "kPqsx3zhfDpE"
      },
      "outputs": [],
      "source": [
        "df = train.drop(['system:index', 'class', 'rh100', 'rh100_1', '.geo'], axis=1, inplace=True)\n",
        "df"
      ]
    },
    {
      "cell_type": "code",
      "execution_count": null,
      "metadata": {
        "id": "og4db4gpDu1L"
      },
      "outputs": [],
      "source": [
        "df= train\n",
        "df"
      ]
    },
    {
      "cell_type": "code",
      "execution_count": null,
      "metadata": {
        "id": "zrtaeH7uRp3c"
      },
      "outputs": [],
      "source": [
        "head_dflist = list(df.columns.values)\n",
        "head_dflist"
      ]
    },
    {
      "cell_type": "markdown",
      "metadata": {
        "id": "S5FoXnBUnoIc"
      },
      "source": [
        "# SFS"
      ]
    },
    {
      "cell_type": "code",
      "execution_count": null,
      "metadata": {
        "id": "Gv4pbjJIbY14"
      },
      "outputs": [],
      "source": [
        "# rfc=RandomForestClassifier(random_state=42)"
      ]
    },
    {
      "cell_type": "code",
      "execution_count": null,
      "metadata": {
        "id": "sMYKqBJ3H0zU"
      },
      "outputs": [],
      "source": [
        "# RandomForestRegressor\n",
        "# class sklearn.ensemble.RandomForestRegressor(n_estimators=100, *, criterion='squared_error', max_depth=None, min_samples_split=2, min_samples_leaf=1, min_weight_fraction_leaf=0.0, max_features=1.0, max_leaf_nodes=None, min_impurity_decrease=0.0, bootstrap=True, oob_score=False, n_jobs=None, random_state=None, verbose=0, warm_start=False, ccp_alpha=0.0, max_samples=None, monotonic_cst=None)[source]\n"
      ]
    },
    {
      "cell_type": "code",
      "execution_count": null,
      "metadata": {
        "id": "MojEBPEaH2rq"
      },
      "outputs": [],
      "source": [
        "from sklearn.ensemble import RandomForestRegressor\n",
        "\n",
        "rfr=RandomForestRegressor(random_state=42)"
      ]
    },
    {
      "cell_type": "code",
      "execution_count": null,
      "metadata": {
        "id": "oMthcxK9ammm"
      },
      "outputs": [],
      "source": [
        "# x_train, x_test, y_train, y_test = train_test_split(df, y, test_size=0.3, random_state=42)"
      ]
    },
    {
      "cell_type": "code",
      "execution_count": null,
      "metadata": {
        "id": "mlhQJFRl9_K1"
      },
      "outputs": [],
      "source": [
        "x_train = df\n",
        "y_train = y"
      ]
    },
    {
      "cell_type": "code",
      "execution_count": null,
      "metadata": {
        "id": "OKUQi68OnwgR"
      },
      "outputs": [],
      "source": [
        "# from sklearn.feature_selection import SequentialFeatureSelector\n",
        "# # from sklearn.neighbors import KNeighborsClassifier\n",
        "# # from sklearn.datasets import load_iris\n",
        "# # X, y = load_iris(return_X_y=True)\n",
        "# # knn = KNeighborsClassifier(n_neighbors=3)\n",
        "# sfs = SequentialFeatureSelector(rfr,  n_features_to_select=36, tol = float, scoring='accuracy')\n",
        "# sfs.fit(x_train, y_train)\n",
        "# # sfs.get_support()\n",
        "# # sfs.transform(x_train).shape\n",
        "\n",
        "# selected_features = sfs.get_support()\n",
        "\n",
        "# count = len(list(x_train.columns[selected_features]))\n",
        "# count\n",
        "\n",
        "# print('The selected features are:', list(x_train.columns[selected_features]))"
      ]
    },
    {
      "cell_type": "code",
      "execution_count": null,
      "metadata": {
        "id": "YnRnzkQEJgWr"
      },
      "outputs": [],
      "source": [
        "!pip install mlxtend"
      ]
    },
    {
      "cell_type": "code",
      "execution_count": null,
      "metadata": {
        "id": "Z02dp5N3FeCJ"
      },
      "outputs": [],
      "source": [
        "from mlxtend.feature_selection import SequentialFeatureSelector as SFS\n",
        "\n",
        "#SequentialFeatureSelector(estimator, k_features=1, forward=True, floating=False, verbose=0, scoring=None, cv=5,\n",
        "# n_jobs=1, pre_dispatch='2n_jobs', clone_estimator=True, fixed_features=None, feature_groups=None)*\n",
        "\n",
        "#https://scikit-learn.org/stable/modules/model_evaluation.html#scoring-parameter\n",
        "\n",
        "scoring = {'neg_mean_absolute_error','r2'}\n",
        "\n",
        "# Sequential Forward Floating Selection\n",
        "sfs = SFS(rfr,\n",
        "          k_features= 4,\n",
        "          forward=True,\n",
        "          floating=True,\n",
        "          verbose=3,\n",
        "          scoring='neg_mean_absolute_error',\n",
        "          cv=5,)\n",
        "\n",
        "\n",
        "sfs.fit(x_train, y_train)\n",
        "sfs.subsets_\n",
        "sfs.k_feature_idx_\n"
      ]
    },
    {
      "cell_type": "code",
      "execution_count": null,
      "metadata": {
        "id": "0JSRYamJRoZF"
      },
      "outputs": [],
      "source": [
        "print('Best accuracy score: %.2f' % sfs.k_score_)\n",
        "print('Best subset (indices):', sfs.k_feature_idx_)\n",
        "print('Best subset (corresponding names):', sfs.k_feature_names_)"
      ]
    },
    {
      "cell_type": "code",
      "execution_count": null,
      "metadata": {
        "id": "Y212W8O5d8sP"
      },
      "outputs": [],
      "source": [
        "sfs_df = pd.DataFrame.from_dict(sfs.get_metric_dict()).T\n",
        "sfs_df"
      ]
    },
    {
      "cell_type": "code",
      "execution_count": null,
      "metadata": {
        "id": "lWcb1hhbeJlS"
      },
      "outputs": [],
      "source": [
        "from mlxtend.plotting import plot_sequential_feature_selection as plot_sfs\n",
        "\n",
        "fig1 = plot_sfs(sfs.get_metric_dict(), kind='std_dev')\n",
        "\n",
        "plt.ylim([-10, 1])\n",
        "plt.title('Sequential Forward Floating Selection (w. std_dev)')\n",
        "plt.grid()\n",
        "plt.show()"
      ]
    },
    {
      "cell_type": "markdown",
      "metadata": {
        "id": "KJSp7yzbeKVs"
      },
      "source": [
        "# RF Train"
      ]
    },
    {
      "cell_type": "code",
      "source": [
        "#### pull the SFS best features and make that new x_train\n",
        "\n",
        "best_features = list(sfs.k_feature_names_)\n",
        "best_features\n"
      ],
      "metadata": {
        "id": "jBQ_ThNUAoCM"
      },
      "execution_count": null,
      "outputs": []
    },
    {
      "cell_type": "code",
      "source": [
        "best_features_df = df[best_features]\n",
        "x_train =best_features_df\n",
        "x_train"
      ],
      "metadata": {
        "id": "CWHTbp9jAq_T"
      },
      "execution_count": null,
      "outputs": []
    },
    {
      "cell_type": "code",
      "execution_count": null,
      "metadata": {
        "id": "Wtp2sE_jbeBG"
      },
      "outputs": [],
      "source": [
        "#https://scikit-learn.org/stable/modules/model_evaluation.html#scoring-parameter\n",
        "param_grid = {\n",
        "    'n_estimators': [10, 50, 100, 150], #10, 50, 100\n",
        "    # 'max_features': ['auto', 'sqrt', 'log2'],\n",
        "    # 'max_depth' : [7,8],\n",
        "    # 'min_samples_split': [3,4],\n",
        "    'criterion' :['absolute_error', 'squared_error'] #'squared_error', 'friedman_mse'\n",
        "}"
      ]
    },
    {
      "cell_type": "code",
      "execution_count": null,
      "metadata": {
        "id": "ZbtgUnDCbhD5"
      },
      "outputs": [],
      "source": [
        "CV_rfc = GridSearchCV(estimator=rfr, param_grid=param_grid, scoring = 'r2', cv= 5, verbose = 3)\n",
        "CV_rfc.fit(x_train, y_train)"
      ]
    },
    {
      "cell_type": "code",
      "execution_count": null,
      "metadata": {
        "id": "HDfR61jGmz7S"
      },
      "outputs": [],
      "source": [
        "print(CV_rfc.best_score_)\n",
        "print(CV_rfc.best_params_)\n",
        "print(CV_rfc.best_estimator_)"
      ]
    },
    {
      "cell_type": "code",
      "execution_count": null,
      "metadata": {
        "id": "HWHEXsXMsrwR"
      },
      "outputs": [],
      "source": [
        "sorted(CV_rfc.cv_results_.keys())"
      ]
    },
    {
      "cell_type": "code",
      "execution_count": null,
      "metadata": {
        "id": "eHFmeqr9tStY"
      },
      "outputs": [],
      "source": [
        "cv_df = pd.DataFrame(CV_rfc.cv_results_)\n",
        "cv_df"
      ]
    },
    {
      "cell_type": "code",
      "execution_count": null,
      "metadata": {
        "id": "3olloDGsvAg3"
      },
      "outputs": [],
      "source": [
        "from matplotlib import pyplot as plt\n",
        "cv_df.plot(kind='scatter', x='param_n_estimators', y='mean_test_score', s=32, alpha=.8)\n",
        "plt.gca().spines[['top', 'right',]].set_visible(False)"
      ]
    },
    {
      "cell_type": "code",
      "execution_count": null,
      "metadata": {
        "id": "YDS6FSSNvswK"
      },
      "outputs": [],
      "source": [
        "cv_df_out = pd.DataFrame(CV_rfc.cv_results_['params'])\n",
        "\n",
        "cv_df_out['score'] = CV_rfc.cv_results_['mean_test_score']\n",
        "\n",
        "sns.lineplot(data=cv_df_out, x= 'n_estimators', y='score') #hue='param_kernel'\n",
        "plt.show()"
      ]
    },
    {
      "cell_type": "code",
      "execution_count": null,
      "metadata": {
        "id": "NZczIX8syVcG"
      },
      "outputs": [],
      "source": [
        "from matplotlib import pyplot as plt\n",
        "import seaborn as sns\n",
        "figsize = (12, 1.2 * len(cv_df['param_criterion'].unique()))\n",
        "plt.figure(figsize=figsize)\n",
        "sns.violinplot(cv_df, x='mean_test_score', y='param_criterion', inner='stick', palette='Dark2')\n",
        "sns.despine(top=True, right=True, bottom=True, left=True)"
      ]
    },
    {
      "cell_type": "markdown",
      "metadata": {
        "id": "fQRTQh6kq32o"
      },
      "source": [
        "# Run the model"
      ]
    },
    {
      "cell_type": "code",
      "execution_count": null,
      "metadata": {
        "id": "Qk5Rd2ElmYCH"
      },
      "outputs": [],
      "source": [
        "# print(CV_rfc.best_params_)\n",
        "# model_input = CV_rfc.best_params_\n",
        "\n",
        "rfr1=RandomForestRegressor(random_state=42, min_samples_split= 3, n_estimators= 50, max_depth=7, criterion='absolute_error', verbose = 3)\n"
      ]
    },
    {
      "cell_type": "code",
      "execution_count": null,
      "metadata": {
        "id": "HByXrHWMnMuo"
      },
      "outputs": [],
      "source": [
        "rfr1.fit(x_train, y_train)"
      ]
    },
    {
      "cell_type": "code",
      "source": [
        "test_best_features_df = test[best_features]\n",
        "x_test  = test_best_features_df\n",
        "x_test"
      ],
      "metadata": {
        "id": "Iu9kA75dBqSJ"
      },
      "execution_count": null,
      "outputs": []
    },
    {
      "cell_type": "code",
      "execution_count": null,
      "metadata": {
        "id": "IWx7KZ88nesp"
      },
      "outputs": [],
      "source": [
        "pred=rfr1.predict(x_test)"
      ]
    },
    {
      "cell_type": "code",
      "execution_count": null,
      "metadata": {
        "id": "3nTMPZoV_VKu"
      },
      "outputs": [],
      "source": [
        "y_test=test['rh100']\n",
        "y_test"
      ]
    },
    {
      "cell_type": "code",
      "source": [
        "fig, ax = plt.subplots()\n",
        "ax.scatter(y_test, pred)\n",
        "ax.plot([y.min(), y.max()], [y.min(), y.max()], 'k--', lw=4)\n",
        "ax.set_xlabel('Actual')\n",
        "ax.set_ylabel('Predicted')\n",
        "# #regression line\n",
        "\n",
        "plt.annotate(\"r-squared = {:.3f}\".format(r2_score(y_test, pred)), (0, 1))\n",
        "plt.show()"
      ],
      "metadata": {
        "id": "8gTbofyUGO6x"
      },
      "execution_count": null,
      "outputs": []
    },
    {
      "cell_type": "code",
      "source": [
        "rf_test_plot_df = pd.DataFrame({'y_test':y_test, 'pred':pred})\n",
        "# rf_test_plot_df.plot('y_test', 'pred', kind='scatter')\n",
        "\n",
        "sns.regplot(data=rf_test_plot_df,x = 'y_test', y = 'pred',  ci=99, marker=\"x\", color=\".3\", line_kws=dict(color=\"r\"))"
      ],
      "metadata": {
        "id": "2kuZ90wmHhYi"
      },
      "execution_count": null,
      "outputs": []
    },
    {
      "cell_type": "code",
      "source": [
        "from sklearn.metrics import mean_squared_error\n",
        "from sklearn.metrics import classification_report\n",
        "from sklearn import metrics\n",
        "from sklearn.metrics import precision_recall_curve\n",
        "from sklearn.metrics import r2_score\n",
        "from sklearn.metrics import mean_squared_error\n",
        "from sklearn.metrics import mean_absolute_error\n",
        "\n",
        "\n",
        "print(\"MAE train on test\",mean_absolute_error(y_test,pred))\n",
        "\n",
        "print(\"MSE train on test\",mean_squared_error(y_test,pred))\n",
        "\n",
        "r2 = r2_score(y_test,pred)\n",
        "print(\"R2 train on test\", r2)\n",
        "\n",
        "print(\"RMSE train on test\",np.log(np.sqrt(mean_squared_error(y_test,pred))))"
      ],
      "metadata": {
        "id": "YNS8E6tGyfIx"
      },
      "execution_count": null,
      "outputs": []
    },
    {
      "cell_type": "markdown",
      "metadata": {
        "id": "bzM3Cpgc_noi"
      },
      "source": [
        "# Validation"
      ]
    },
    {
      "cell_type": "code",
      "source": [
        "val_best_features_df = validation[best_features]\n",
        "x_val = val_best_features_df\n",
        "x_val"
      ],
      "metadata": {
        "id": "cAEaR1a9Qflt"
      },
      "execution_count": null,
      "outputs": []
    },
    {
      "cell_type": "code",
      "source": [
        "# validation\n",
        "\n",
        "y_val=validation['rh100']\n",
        "y_val"
      ],
      "metadata": {
        "id": "_68JPu5LyaAy"
      },
      "execution_count": null,
      "outputs": []
    },
    {
      "cell_type": "code",
      "source": [
        "pred_val=rfr1.predict(x_val)"
      ],
      "metadata": {
        "id": "rGQMDa61QabD"
      },
      "execution_count": null,
      "outputs": []
    },
    {
      "cell_type": "code",
      "source": [
        "fig, ax = plt.subplots()\n",
        "ax.scatter(y_val, pred_val)\n",
        "ax.plot([y.min(), y.max()], [y.min(), y.max()], 'k--', lw=4)\n",
        "ax.set_xlabel('Actual')\n",
        "ax.set_ylabel('Predicted')\n",
        "# #regression line\n",
        "\n",
        "plt.annotate(\"r-squared = {:.3f}\".format(r2_score(y_val, pred_val)), (0, 1))\n",
        "plt.show()"
      ],
      "metadata": {
        "id": "OMZ3HYbDQs59"
      },
      "execution_count": null,
      "outputs": []
    },
    {
      "cell_type": "code",
      "source": [
        "rf_val_plot_df = pd.DataFrame({'y_val':y_val, 'pred_val':pred_val})\n",
        "# rf_test_plot_df.plot('y_test', 'pred', kind='scatter')\n",
        "\n",
        "sns.regplot(data=rf_val_plot_df,x = 'y_val', y = 'pred_val',  ci=99, marker=\"x\", color=\".3\", line_kws=dict(color=\"r\"))"
      ],
      "metadata": {
        "id": "xnio0evuQ9BQ"
      },
      "execution_count": null,
      "outputs": []
    },
    {
      "cell_type": "code",
      "source": [
        "print(\"MAE on val\",mean_absolute_error(y_val,pred_val))\n",
        "\n",
        "print(\"MSE  on val\",mean_squared_error(y_val,pred_val))\n",
        "\n",
        "r2 = r2_score(y_val,pred_val)\n",
        "print(\"R2  on val\", r2)\n",
        "\n",
        "print(\"RMSE  on val\",np.log(np.sqrt(mean_squared_error(y_val,pred_val))))"
      ],
      "metadata": {
        "id": "iVmKf2VqQzxb"
      },
      "execution_count": null,
      "outputs": []
    },
    {
      "cell_type": "code",
      "source": [
        "# fig, ax = plt.subplots()\n",
        "# ax.scatter(y_val, pred)\n",
        "# ax.plot([y.min(), y.max()], [y.min(), y.max()], 'k--', lw=4)\n",
        "# ax.set_xlabel('Actual')\n",
        "# ax.set_ylabel('Predicted')\n",
        "# # #regression line\n",
        "\n",
        "# plt.annotate(\"r-squared = {:.3f}\".format(r2_score(y_val, pred)), (0, 1))\n",
        "# plt.show()"
      ],
      "metadata": {
        "id": "3-j2ynnEKpCU"
      },
      "execution_count": null,
      "outputs": []
    },
    {
      "cell_type": "code",
      "source": [
        "# rf_val_plot_df = pd.DataFrame({'y_val':y_val, 'pred':pred})\n",
        "# # rf_test_plot_df.plot('y_test', 'pred', kind='scatter')\n",
        "\n",
        "# sns.regplot(data=rf_val_plot_df,x = 'y_val', y = 'pred',  ci=99, marker=\"x\", color=\".3\", line_kws=dict(color=\"r\"))"
      ],
      "metadata": {
        "id": "siKerDFFKOG_"
      },
      "execution_count": null,
      "outputs": []
    },
    {
      "cell_type": "code",
      "source": [
        "\n",
        "# print(\"MAE on val\",mean_absolute_error(y_val,pred))\n",
        "\n",
        "# print(\"MSE  on val\",mean_squared_error(y_val,pred))\n",
        "\n",
        "# r2 = r2_score(y_val,pred)\n",
        "# print(\"R2  on val\", r2)\n",
        "\n",
        "# print(\"RMSE  on val\",np.log(np.sqrt(mean_squared_error(y_val,pred))))"
      ],
      "metadata": {
        "id": "a3V37SMOxKmu"
      },
      "execution_count": null,
      "outputs": []
    },
    {
      "cell_type": "markdown",
      "source": [
        "to follow up on: https://www.kaggle.com/code/wrecked22/randomforest-r-squared-0-86"
      ],
      "metadata": {
        "id": "2WtMme3ZFWNe"
      }
    },
    {
      "cell_type": "markdown",
      "metadata": {
        "id": "iff8BiL6_p6z"
      },
      "source": [
        "# Print csv\n",
        "\n",
        "updated needed here"
      ]
    },
    {
      "cell_type": "code",
      "execution_count": null,
      "metadata": {
        "id": "zZjFyoQvp8E4"
      },
      "outputs": [],
      "source": [
        "# op=pd.DataFrame(test['rh100_1'])\n",
        "# op['class']=op_rf"
      ]
    },
    {
      "cell_type": "code",
      "execution_count": null,
      "metadata": {
        "id": "jUuurWsXqFbT"
      },
      "outputs": [],
      "source": [
        "# op.to_csv(\"op_rf.csv\", index=False)"
      ]
    },
    {
      "cell_type": "code",
      "execution_count": null,
      "metadata": {
        "id": "0MpRLxTnqQXS"
      },
      "outputs": [],
      "source": [
        "# from pathlib import Path\n",
        "# filepath = Path('/content/drive/MyDrive/sample_partition/out.csv')\n",
        "# filepath.parent.mkdir(parents=True, exist_ok=True)\n",
        "# df.to_csv(filepath)"
      ]
    }
  ],
  "metadata": {
    "colab": {
      "toc_visible": true,
      "private_outputs": true,
      "provenance": [],
      "authorship_tag": "ABX9TyOqGAFpJy4HHwT8E9Lar1V1",
      "include_colab_link": true
    },
    "kernelspec": {
      "display_name": "Python 3",
      "name": "python3"
    },
    "language_info": {
      "name": "python"
    }
  },
  "nbformat": 4,
  "nbformat_minor": 0
}